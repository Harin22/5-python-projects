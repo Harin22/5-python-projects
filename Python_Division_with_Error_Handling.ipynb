{
  "nbformat": 4,
  "nbformat_minor": 0,
  "metadata": {
    "colab": {
      "provenance": [],
      "authorship_tag": "ABX9TyPI+wARu36H3j9XBqS8/t1Q",
      "include_colab_link": true
    },
    "kernelspec": {
      "name": "python3",
      "display_name": "Python 3"
    },
    "language_info": {
      "name": "python"
    }
  },
  "cells": [
    {
      "cell_type": "markdown",
      "metadata": {
        "id": "view-in-github",
        "colab_type": "text"
      },
      "source": [
        "<a href=\"https://colab.research.google.com/github/Harin22/5-python-projects/blob/master/Python_Division_with_Error_Handling.ipynb\" target=\"_parent\"><img src=\"https://colab.research.google.com/assets/colab-badge.svg\" alt=\"Open In Colab\"/></a>"
      ]
    },
    {
      "cell_type": "code",
      "execution_count": null,
      "metadata": {
        "id": "iBedm9S6fTNC"
      },
      "outputs": [],
      "source": [
        "try:\n",
        "    n1 = int(input(\"give any number: \"))\n",
        "    n2 = int(input(\"give any number: \"))\n",
        "    sum = n1 / n2\n",
        "    print(sum)\n",
        "\n",
        "except ZeroDivisionError:\n",
        "    print(\"you can't divide by zero\")\n",
        "\n",
        "except ValueError:\n",
        "    print(\"give a valid message\")\n",
        "\n",
        "except Exception as e:\n",
        "    print(\"something went wrong\")\n"
      ]
    }
  ]
}