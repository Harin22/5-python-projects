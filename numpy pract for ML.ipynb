{
  "nbformat": 4,
  "nbformat_minor": 0,
  "metadata": {
    "colab": {
      "provenance": [],
      "authorship_tag": "ABX9TyOyqK4pl/bjtEH7RkeI4TPs",
      "include_colab_link": true
    },
    "kernelspec": {
      "name": "python3",
      "display_name": "Python 3"
    },
    "language_info": {
      "name": "python"
    }
  },
  "cells": [
    {
      "cell_type": "markdown",
      "metadata": {
        "id": "view-in-github",
        "colab_type": "text"
      },
      "source": [
        "<a href=\"https://colab.research.google.com/github/Harin22/5-python-projects/blob/master/numpy%20pract%20for%20ML.ipynb\" target=\"_parent\"><img src=\"https://colab.research.google.com/assets/colab-badge.svg\" alt=\"Open In Colab\"/></a>"
      ]
    },
    {
      "cell_type": "code",
      "execution_count": 2,
      "metadata": {
        "id": "L_XKgt08DLnx"
      },
      "outputs": [],
      "source": [
        "import cv2 as cv\n",
        "import numpy as np\n",
        "import matplotlib.pyplot as plt\n",
        "import matplotlib.image as mpimg"
      ]
    },
    {
      "cell_type": "code",
      "source": [
        "i = 8\n",
        "\n",
        "for j in range(10):\n",
        "    k = (j * i )\n",
        "    print(k * 8)\n",
        ""
      ],
      "metadata": {
        "colab": {
          "base_uri": "https://localhost:8080/"
        },
        "id": "6QLzuV405Kln",
        "outputId": "f7ecdd7e-d696-471f-dcae-9b0d8048e0f9"
      },
      "execution_count": 9,
      "outputs": [
        {
          "output_type": "stream",
          "name": "stdout",
          "text": [
            "0\n",
            "64\n",
            "128\n",
            "192\n",
            "256\n",
            "320\n",
            "384\n",
            "448\n",
            "512\n",
            "576\n"
          ]
        }
      ]
    },
    {
      "cell_type": "code",
      "source": [
        "zeros = np.zeros((10, 10)), np.ones((5,5))\n",
        "print(zeros , \", \")"
      ],
      "metadata": {
        "colab": {
          "base_uri": "https://localhost:8080/"
        },
        "id": "sKYQStyE5Q-V",
        "outputId": "d57b85d6-8141-4200-c7c0-7d74936d12df"
      },
      "execution_count": 15,
      "outputs": [
        {
          "output_type": "stream",
          "name": "stdout",
          "text": [
            "(array([[0., 0., 0., 0., 0., 0., 0., 0., 0., 0.],\n",
            "       [0., 0., 0., 0., 0., 0., 0., 0., 0., 0.],\n",
            "       [0., 0., 0., 0., 0., 0., 0., 0., 0., 0.],\n",
            "       [0., 0., 0., 0., 0., 0., 0., 0., 0., 0.],\n",
            "       [0., 0., 0., 0., 0., 0., 0., 0., 0., 0.],\n",
            "       [0., 0., 0., 0., 0., 0., 0., 0., 0., 0.],\n",
            "       [0., 0., 0., 0., 0., 0., 0., 0., 0., 0.],\n",
            "       [0., 0., 0., 0., 0., 0., 0., 0., 0., 0.],\n",
            "       [0., 0., 0., 0., 0., 0., 0., 0., 0., 0.],\n",
            "       [0., 0., 0., 0., 0., 0., 0., 0., 0., 0.]]), array([[1., 1., 1., 1., 1.],\n",
            "       [1., 1., 1., 1., 1.],\n",
            "       [1., 1., 1., 1., 1.],\n",
            "       [1., 1., 1., 1., 1.],\n",
            "       [1., 1., 1., 1., 1.]])) , \n"
          ]
        }
      ]
    },
    {
      "cell_type": "code",
      "source": [
        "arange = np.arange(10)\n",
        "print(arange)"
      ],
      "metadata": {
        "colab": {
          "base_uri": "https://localhost:8080/"
        },
        "id": "qTZSlnAY6x7G",
        "outputId": "03dd2532-e263-42b5-95f3-233b69abfbd6"
      },
      "execution_count": 16,
      "outputs": [
        {
          "output_type": "stream",
          "name": "stdout",
          "text": [
            "[0 1 2 3 4 5 6 7 8 9]\n"
          ]
        }
      ]
    },
    {
      "cell_type": "code",
      "source": [
        "i = np.arange(20).reshape(2,10)\n",
        "print(i)"
      ],
      "metadata": {
        "colab": {
          "base_uri": "https://localhost:8080/"
        },
        "id": "hpnOHOx_7PCS",
        "outputId": "8f17b914-bfc7-48eb-80b3-d8bd9a90a6ad"
      },
      "execution_count": 17,
      "outputs": [
        {
          "output_type": "stream",
          "name": "stdout",
          "text": [
            "[[ 0  1  2  3  4  5  6  7  8  9]\n",
            " [10 11 12 13 14 15 16 17 18 19]]\n"
          ]
        }
      ]
    },
    {
      "cell_type": "code",
      "source": [
        "j = np.linspace(0, 40).reshape(5,10)\n",
        "print(j)"
      ],
      "metadata": {
        "colab": {
          "base_uri": "https://localhost:8080/"
        },
        "id": "qzt17yt58r13",
        "outputId": "954f2d7f-b0a8-4f98-be81-7586169431f6"
      },
      "execution_count": 33,
      "outputs": [
        {
          "output_type": "stream",
          "name": "stdout",
          "text": [
            "[[ 0.          0.81632653  1.63265306  2.44897959  3.26530612  4.08163265\n",
            "   4.89795918  5.71428571  6.53061224  7.34693878]\n",
            " [ 8.16326531  8.97959184  9.79591837 10.6122449  11.42857143 12.24489796\n",
            "  13.06122449 13.87755102 14.69387755 15.51020408]\n",
            " [16.32653061 17.14285714 17.95918367 18.7755102  19.59183673 20.40816327\n",
            "  21.2244898  22.04081633 22.85714286 23.67346939]\n",
            " [24.48979592 25.30612245 26.12244898 26.93877551 27.75510204 28.57142857\n",
            "  29.3877551  30.20408163 31.02040816 31.83673469]\n",
            " [32.65306122 33.46938776 34.28571429 35.10204082 35.91836735 36.73469388\n",
            "  37.55102041 38.36734694 39.18367347 40.        ]]\n"
          ]
        }
      ]
    },
    {
      "cell_type": "code",
      "source": [
        "data_2d = [[10, 20, 30], [40, 50, 60], [70, 80, 90]]\n",
        "\n",
        "k = np.transpose(data_2d)\n",
        "print(\"in 3d:\", k)\n",
        "\n",
        "print(data_2d)"
      ],
      "metadata": {
        "colab": {
          "base_uri": "https://localhost:8080/"
        },
        "id": "_tC5TXG39AH5",
        "outputId": "b8d26dab-2723-4a78-fcfd-5b54c8cc1575"
      },
      "execution_count": 36,
      "outputs": [
        {
          "output_type": "stream",
          "name": "stdout",
          "text": [
            "in 3d: [[10 40 70]\n",
            " [20 50 80]\n",
            " [30 60 90]]\n",
            "[[10, 20, 30], [40, 50, 60], [70, 80, 90]]\n"
          ]
        }
      ]
    },
    {
      "cell_type": "code",
      "source": [
        "data_2d = [[10, 20, 30], [40, 50, 60], [70, 80, 90], [40, 50, 60], [70, 80, 90]]\n",
        "\n",
        "k = np.transpose(data_2d)\n",
        "display = np.array(k)\n",
        "print(\"this is a 3d array\")\n",
        "print(display)"
      ],
      "metadata": {
        "colab": {
          "base_uri": "https://localhost:8080/"
        },
        "id": "cpn5MUL6CfUo",
        "outputId": "e636550c-cad3-4094-89ed-2fdd1a64f719"
      },
      "execution_count": 40,
      "outputs": [
        {
          "output_type": "stream",
          "name": "stdout",
          "text": [
            "this is a 3d array\n",
            "[[10 40 70 40 70]\n",
            " [20 50 80 50 80]\n",
            " [30 60 90 60 90]]\n"
          ]
        }
      ]
    },
    {
      "cell_type": "code",
      "source": [
        "import numpy as np\n",
        "\n",
        "data = [10, 12, 23, 23, 16, 23, 21, 16]\n",
        "std_dev = np.std(data)\n",
        "print(std_dev)"
      ],
      "metadata": {
        "colab": {
          "base_uri": "https://localhost:8080/"
        },
        "id": "RN1LS3ewOhaE",
        "outputId": "d09dbbe6-2c2d-48ed-b8fd-1818a209d74c"
      },
      "execution_count": 48,
      "outputs": [
        {
          "output_type": "stream",
          "name": "stdout",
          "text": [
            "4.898979485566356\n"
          ]
        }
      ]
    },
    {
      "cell_type": "code",
      "source": [
        "import numpy as np\n",
        "\n",
        "matrix1 = [[10, 20, 30], [40, 50, 60]]\n",
        "matrix2 = [[1, 2], [3, 4], [5, 6]]\n",
        "\n",
        "dotmat = np.dot(matrix1)\n",
        "print(dotmat)"
      ],
      "metadata": {
        "colab": {
          "base_uri": "https://localhost:8080/",
          "height": 193
        },
        "id": "sGBqHUEVRo6L",
        "outputId": "fb510f78-b0aa-4627-bb44-cf8542ae419e"
      },
      "execution_count": 55,
      "outputs": [
        {
          "output_type": "error",
          "ename": "TypeError",
          "evalue": "dot() missing 1 required positional argument: 'b'",
          "traceback": [
            "\u001b[0;31m---------------------------------------------------------------------------\u001b[0m",
            "\u001b[0;31mTypeError\u001b[0m                                 Traceback (most recent call last)",
            "\u001b[0;32m<ipython-input-55-c3ece2c6d8de>\u001b[0m in \u001b[0;36m<cell line: 6>\u001b[0;34m()\u001b[0m\n\u001b[1;32m      4\u001b[0m \u001b[0mmatrix2\u001b[0m \u001b[0;34m=\u001b[0m \u001b[0;34m[\u001b[0m\u001b[0;34m[\u001b[0m\u001b[0;36m1\u001b[0m\u001b[0;34m,\u001b[0m \u001b[0;36m2\u001b[0m\u001b[0;34m]\u001b[0m\u001b[0;34m,\u001b[0m \u001b[0;34m[\u001b[0m\u001b[0;36m3\u001b[0m\u001b[0;34m,\u001b[0m \u001b[0;36m4\u001b[0m\u001b[0;34m]\u001b[0m\u001b[0;34m,\u001b[0m \u001b[0;34m[\u001b[0m\u001b[0;36m5\u001b[0m\u001b[0;34m,\u001b[0m \u001b[0;36m6\u001b[0m\u001b[0;34m]\u001b[0m\u001b[0;34m]\u001b[0m\u001b[0;34m\u001b[0m\u001b[0;34m\u001b[0m\u001b[0m\n\u001b[1;32m      5\u001b[0m \u001b[0;34m\u001b[0m\u001b[0m\n\u001b[0;32m----> 6\u001b[0;31m \u001b[0mdotmat\u001b[0m \u001b[0;34m=\u001b[0m \u001b[0mnp\u001b[0m\u001b[0;34m.\u001b[0m\u001b[0mdot\u001b[0m\u001b[0;34m(\u001b[0m\u001b[0mmatrix1\u001b[0m\u001b[0;34m)\u001b[0m\u001b[0;34m\u001b[0m\u001b[0;34m\u001b[0m\u001b[0m\n\u001b[0m\u001b[1;32m      7\u001b[0m \u001b[0mprint\u001b[0m\u001b[0;34m(\u001b[0m\u001b[0mdotmat\u001b[0m\u001b[0;34m)\u001b[0m\u001b[0;34m\u001b[0m\u001b[0;34m\u001b[0m\u001b[0m\n",
            "\u001b[0;31mTypeError\u001b[0m: dot() missing 1 required positional argument: 'b'"
          ]
        }
      ]
    },
    {
      "cell_type": "code",
      "source": [
        "la = np.split(matrix1)\n",
        "print(la)"
      ],
      "metadata": {
        "colab": {
          "base_uri": "https://localhost:8080/",
          "height": 159
        },
        "id": "S3hZjF6hSy9K",
        "outputId": "4410024f-2b8c-4baa-c812-d8e31184bfba"
      },
      "execution_count": 59,
      "outputs": [
        {
          "output_type": "error",
          "ename": "TypeError",
          "evalue": "split() missing 1 required positional argument: 'indices_or_sections'",
          "traceback": [
            "\u001b[0;31m---------------------------------------------------------------------------\u001b[0m",
            "\u001b[0;31mTypeError\u001b[0m                                 Traceback (most recent call last)",
            "\u001b[0;32m<ipython-input-59-6f3168ef7168>\u001b[0m in \u001b[0;36m<cell line: 1>\u001b[0;34m()\u001b[0m\n\u001b[0;32m----> 1\u001b[0;31m \u001b[0mla\u001b[0m \u001b[0;34m=\u001b[0m \u001b[0mnp\u001b[0m\u001b[0;34m.\u001b[0m\u001b[0msplit\u001b[0m\u001b[0;34m(\u001b[0m\u001b[0mmatrix1\u001b[0m\u001b[0;34m)\u001b[0m\u001b[0;34m\u001b[0m\u001b[0;34m\u001b[0m\u001b[0m\n\u001b[0m\u001b[1;32m      2\u001b[0m \u001b[0mprint\u001b[0m\u001b[0;34m(\u001b[0m\u001b[0mla\u001b[0m\u001b[0;34m)\u001b[0m\u001b[0;34m\u001b[0m\u001b[0;34m\u001b[0m\u001b[0m\n",
            "\u001b[0;31mTypeError\u001b[0m: split() missing 1 required positional argument: 'indices_or_sections'"
          ]
        }
      ]
    },
    {
      "cell_type": "code",
      "source": [
        "arr1 = np.array([1, 2, 3, 4])\n",
        "arr2 = np.array([[1, 2], [3, 4]])\n",
        "\n",
        "display(arr1)\n",
        "display(arr2)"
      ],
      "metadata": {
        "colab": {
          "base_uri": "https://localhost:8080/",
          "height": 69
        },
        "id": "bWF4fPzbV7bx",
        "outputId": "014e65a0-3d55-4f58-bcb6-3f4c20023d7e"
      },
      "execution_count": 5,
      "outputs": [
        {
          "output_type": "display_data",
          "data": {
            "text/plain": [
              "array([1, 2, 3, 4])"
            ]
          },
          "metadata": {}
        },
        {
          "output_type": "display_data",
          "data": {
            "text/plain": [
              "array([[1, 2],\n",
              "       [3, 4]])"
            ]
          },
          "metadata": {}
        }
      ]
    },
    {
      "cell_type": "code",
      "source": [
        "zeros_array = np.zeros((3, 3))   # 3x3 matrix filled with zeros\n",
        "ones_array = np.full((2, 2), 1)  # 2x2 matrix filled with ones\n",
        "random_array = np.random.randint(4, 4)  # 4x4 matrix filled with random values\n",
        "\n",
        "print(random_array)\n",
        "\n",
        "print(zeros_array)"
      ],
      "metadata": {
        "colab": {
          "base_uri": "https://localhost:8080/",
          "height": 315
        },
        "id": "RkAt90YEtauC",
        "outputId": "92f23a8a-2861-4f5b-ea6b-4442efd2bb4f"
      },
      "execution_count": 12,
      "outputs": [
        {
          "output_type": "error",
          "ename": "ValueError",
          "evalue": "low >= high",
          "traceback": [
            "\u001b[0;31m---------------------------------------------------------------------------\u001b[0m",
            "\u001b[0;31mValueError\u001b[0m                                Traceback (most recent call last)",
            "\u001b[0;32m<ipython-input-12-1432cb5ba4fb>\u001b[0m in \u001b[0;36m<cell line: 3>\u001b[0;34m()\u001b[0m\n\u001b[1;32m      1\u001b[0m \u001b[0mzeros_array\u001b[0m \u001b[0;34m=\u001b[0m \u001b[0mnp\u001b[0m\u001b[0;34m.\u001b[0m\u001b[0mzeros\u001b[0m\u001b[0;34m(\u001b[0m\u001b[0;34m(\u001b[0m\u001b[0;36m3\u001b[0m\u001b[0;34m,\u001b[0m \u001b[0;36m3\u001b[0m\u001b[0;34m)\u001b[0m\u001b[0;34m)\u001b[0m   \u001b[0;31m# 3x3 matrix filled with zeros\u001b[0m\u001b[0;34m\u001b[0m\u001b[0;34m\u001b[0m\u001b[0m\n\u001b[1;32m      2\u001b[0m \u001b[0mones_array\u001b[0m \u001b[0;34m=\u001b[0m \u001b[0mnp\u001b[0m\u001b[0;34m.\u001b[0m\u001b[0mfull\u001b[0m\u001b[0;34m(\u001b[0m\u001b[0;34m(\u001b[0m\u001b[0;36m2\u001b[0m\u001b[0;34m,\u001b[0m \u001b[0;36m2\u001b[0m\u001b[0;34m)\u001b[0m\u001b[0;34m,\u001b[0m \u001b[0;36m1\u001b[0m\u001b[0;34m)\u001b[0m  \u001b[0;31m# 2x2 matrix filled with ones\u001b[0m\u001b[0;34m\u001b[0m\u001b[0;34m\u001b[0m\u001b[0m\n\u001b[0;32m----> 3\u001b[0;31m \u001b[0mrandom_array\u001b[0m \u001b[0;34m=\u001b[0m \u001b[0mnp\u001b[0m\u001b[0;34m.\u001b[0m\u001b[0mrandom\u001b[0m\u001b[0;34m.\u001b[0m\u001b[0mrandint\u001b[0m\u001b[0;34m(\u001b[0m\u001b[0;36m4\u001b[0m\u001b[0;34m,\u001b[0m \u001b[0;36m4\u001b[0m\u001b[0;34m)\u001b[0m  \u001b[0;31m# 4x4 matrix filled with random values\u001b[0m\u001b[0;34m\u001b[0m\u001b[0;34m\u001b[0m\u001b[0m\n\u001b[0m\u001b[1;32m      4\u001b[0m \u001b[0;34m\u001b[0m\u001b[0m\n\u001b[1;32m      5\u001b[0m \u001b[0mprint\u001b[0m\u001b[0;34m(\u001b[0m\u001b[0mrandom_array\u001b[0m\u001b[0;34m)\u001b[0m\u001b[0;34m\u001b[0m\u001b[0;34m\u001b[0m\u001b[0m\n",
            "\u001b[0;32mnumpy/random/mtrand.pyx\u001b[0m in \u001b[0;36mnumpy.random.mtrand.RandomState.randint\u001b[0;34m()\u001b[0m\n",
            "\u001b[0;32mnumpy/random/_bounded_integers.pyx\u001b[0m in \u001b[0;36mnumpy.random._bounded_integers._rand_int64\u001b[0;34m()\u001b[0m\n",
            "\u001b[0;31mValueError\u001b[0m: low >= high"
          ]
        }
      ]
    },
    {
      "cell_type": "code",
      "source": [
        "identity_matrix = np.eye(5)  # 3x3 identity matrix\n",
        "print(identity_matrix)\n"
      ],
      "metadata": {
        "colab": {
          "base_uri": "https://localhost:8080/"
        },
        "id": "ueZGyE8ZtwkP",
        "outputId": "f7731e32-bb43-4bec-97e0-c2ac7d530c68"
      },
      "execution_count": 15,
      "outputs": [
        {
          "output_type": "stream",
          "name": "stdout",
          "text": [
            "[[1. 0. 0. 0. 0.]\n",
            " [0. 1. 0. 0. 0.]\n",
            " [0. 0. 1. 0. 0.]\n",
            " [0. 0. 0. 1. 0.]\n",
            " [0. 0. 0. 0. 1.]]\n"
          ]
        }
      ]
    },
    {
      "cell_type": "code",
      "source": [
        "random1 = np.random.rand(1, 20, 2)\n",
        "random = random1.reshape(20, 2)\n",
        "random_number = np.random.uniform(0, 9, (3,3))\n",
        "\n",
        "print(random_number)\n",
        "\n",
        "\n",
        "print(random)"
      ],
      "metadata": {
        "colab": {
          "base_uri": "https://localhost:8080/"
        },
        "id": "s3r8vOl1u9y-",
        "outputId": "ae1af26b-3677-4a57-8119-8c0837de6c2f"
      },
      "execution_count": 25,
      "outputs": [
        {
          "output_type": "stream",
          "name": "stdout",
          "text": [
            "[[0.75761347 0.39849035 5.88264073]\n",
            " [5.3033106  6.42787809 6.98493656]\n",
            " [8.52182291 8.79580919 0.57560259]]\n",
            "[[0.62413531 0.70014666]\n",
            " [0.92007176 0.27544134]\n",
            " [0.4749805  0.47013935]\n",
            " [0.28621516 0.47767283]\n",
            " [0.84245463 0.75740002]\n",
            " [0.76968224 0.69634938]\n",
            " [0.79357097 0.05721743]\n",
            " [0.8803666  0.49532471]\n",
            " [0.36087439 0.45747386]\n",
            " [0.4540465  0.43758683]\n",
            " [0.58945373 0.53488746]\n",
            " [0.94162223 0.40662952]\n",
            " [0.77663493 0.65542968]\n",
            " [0.41697562 0.26380761]\n",
            " [0.12591506 0.44384149]\n",
            " [0.08678296 0.76722509]\n",
            " [0.58692488 0.37186757]\n",
            " [0.26962786 0.6864599 ]\n",
            " [0.20772589 0.04185558]\n",
            " [0.51525521 0.78736282]]\n"
          ]
        }
      ]
    },
    {
      "cell_type": "code",
      "source": [
        "array2 = np.full((3, 8))\n",
        "array1 = np.ones((3, 3))\n",
        "\n",
        "value = np.subtract(array2, array1)\n",
        "\n",
        "\n",
        "print(array2)\n",
        "print(array1)\n",
        "print(value)"
      ],
      "metadata": {
        "colab": {
          "base_uri": "https://localhost:8080/"
        },
        "id": "A1LM3TDxxDjG",
        "outputId": "d525a151-78c5-43de-82f2-44c21a4cc118"
      },
      "execution_count": 28,
      "outputs": [
        {
          "output_type": "stream",
          "name": "stdout",
          "text": [
            "[[2 2 2]\n",
            " [2 2 2]\n",
            " [2 2 2]]\n",
            "[[1. 1. 1.]\n",
            " [1. 1. 1.]\n",
            " [1. 1. 1.]]\n",
            "[[1. 1. 1.]\n",
            " [1. 1. 1.]\n",
            " [1. 1. 1.]]\n"
          ]
        }
      ]
    },
    {
      "cell_type": "code",
      "source": [
        "i = np.array([[1, 2, 3], [4, 5, 6]])\n",
        "\n",
        "rs = i.reshape(2,3)\n",
        "print(rs)"
      ],
      "metadata": {
        "colab": {
          "base_uri": "https://localhost:8080/"
        },
        "id": "Wkr8d0ZuyREt",
        "outputId": "e96988a5-057b-4256-b1ae-7aaaa05c98c9"
      },
      "execution_count": 31,
      "outputs": [
        {
          "output_type": "stream",
          "name": "stdout",
          "text": [
            "[[1 2 3]\n",
            " [4 5 6]]\n"
          ]
        }
      ]
    },
    {
      "cell_type": "code",
      "source": [
        "c = ([[1, 2, 3], [4, 5, 6]])\n",
        "d = ([[7, 8, 9, 4,10, 11, 12, 5]])\n",
        "\n",
        "argsorted_array = np.sort(d)  # Indices of sorted elements\n",
        "print(argsorted_array)\n",
        "\n",
        "vstack = np.hstack(( d))\n",
        "#print(vstack)\n"
      ],
      "metadata": {
        "colab": {
          "base_uri": "https://localhost:8080/"
        },
        "id": "Z-bmYNE90ceb",
        "outputId": "b191b2b7-6483-4296-9021-84e4bfaff70c"
      },
      "execution_count": 40,
      "outputs": [
        {
          "output_type": "stream",
          "name": "stdout",
          "text": [
            "[[ 4  5  7  8  9 10 11 12]]\n"
          ]
        }
      ]
    },
    {
      "cell_type": "code",
      "source": [
        "split_array = np.split(c, [2])\n",
        "print(split_array)"
      ],
      "metadata": {
        "colab": {
          "base_uri": "https://localhost:8080/"
        },
        "id": "qJ0aXSMI2AbG",
        "outputId": "354736ef-c83e-4c87-ffa5-e923da5c7169"
      },
      "execution_count": 37,
      "outputs": [
        {
          "output_type": "stream",
          "name": "stdout",
          "text": [
            "[array([[1, 2, 3],\n",
            "       [4, 5, 6]]), array([], shape=(0, 3), dtype=int64)]\n"
          ]
        }
      ]
    },
    {
      "cell_type": "code",
      "source": [
        "data = np.array([[5, 2, 9],\n",
        "                 [1, 7, 3],\n",
        "                 [4, 8, 6]])\n",
        "\n",
        "# Calculate the mean of each row\n",
        "means = np.mean(data, axis=1)\n",
        "sort = np.argsort(means)\n",
        "rowsort = np.sort(data)\n",
        "max_index = np.argmax(data)\n",
        "min_index = np.argmin(data)\n",
        "\n",
        "print(max_index)\n",
        "print(min_index)\n",
        "\n",
        "\n",
        "print(sort)\n",
        "#print(means, axis = 1)\n",
        "print(rowsort)"
      ],
      "metadata": {
        "colab": {
          "base_uri": "https://localhost:8080/"
        },
        "id": "LexoSjq32wzb",
        "outputId": "5e5f9078-a04f-423c-92f5-2b688f7308de"
      },
      "execution_count": 46,
      "outputs": [
        {
          "output_type": "stream",
          "name": "stdout",
          "text": [
            "2\n",
            "3\n",
            "[1 0 2]\n",
            "[[2 5 9]\n",
            " [1 3 7]\n",
            " [4 6 8]]\n"
          ]
        }
      ]
    },
    {
      "cell_type": "code",
      "source": [
        "dot_product = np.dot(data, data)\n",
        "print(dot_product)\n",
        "\n",
        "matrix_inv = np.linalg.inv(data)\n",
        "print(matrix_inv)\n",
        "\n",
        "la = np.linalg."
      ],
      "metadata": {
        "colab": {
          "base_uri": "https://localhost:8080/"
        },
        "id": "-mLWeyQg4Isf",
        "outputId": "ff9254e0-9d15-4bc4-9202-a1e752638fea"
      },
      "execution_count": 52,
      "outputs": [
        {
          "output_type": "stream",
          "name": "stdout",
          "text": [
            "[[ 63  96 105]\n",
            " [ 24  75  48]\n",
            " [ 52 112  96]]\n",
            "[[-0.23076923 -0.76923077  0.73076923]\n",
            " [-0.07692308  0.07692308  0.07692308]\n",
            " [ 0.25641026  0.41025641 -0.42307692]]\n"
          ]
        }
      ]
    },
    {
      "cell_type": "code",
      "source": [
        "eigenvalues, eigenvectors = np.linalg.eig(data)\n",
        "print(eigenvalues)\n",
        "print(eigenvectors)\n"
      ],
      "metadata": {
        "colab": {
          "base_uri": "https://localhost:8080/"
        },
        "id": "kuaZT4-K94bq",
        "outputId": "c9d4f77a-7c8e-48de-ad20-f354cecfb672"
      },
      "execution_count": 53,
      "outputs": [
        {
          "output_type": "stream",
          "name": "stdout",
          "text": [
            "[14.5347587  -1.16020158  4.62544289]\n",
            "[[ 0.68122661  0.80792532  0.88812997]\n",
            " [ 0.34705395  0.11357376 -0.45509057]\n",
            " [ 0.64458038 -0.5782367   0.06416953]]\n"
          ]
        }
      ]
    },
    {
      "cell_type": "code",
      "source": [
        "import numpy as np\n",
        "\n",
        "np.random.seed(42)  # Set the seed to 42\n",
        "random_numbers1 = np.random.rand(3)  # Generate 3 random numbers\n",
        "print(\"First set of random numbers:\", random_numbers1)\n",
        "\n",
        "np.random.seed(42)  # Set the seed to 42 again\n",
        "random_numbers2 = np.random.rand(3)  # Generate 3 random numbers again\n",
        "print(\"Second set of random numbers:\", random_numbers2)"
      ],
      "metadata": {
        "colab": {
          "base_uri": "https://localhost:8080/"
        },
        "id": "-DwwNWZ76FA5",
        "outputId": "eae0fa04-d1a9-46b8-d03a-77dd9232ec2a"
      },
      "execution_count": 51,
      "outputs": [
        {
          "output_type": "stream",
          "name": "stdout",
          "text": [
            "First set of random numbers: [0.37454012 0.95071431 0.73199394]\n",
            "Second set of random numbers: [0.37454012 0.95071431 0.73199394]\n"
          ]
        }
      ]
    }
  ]
}