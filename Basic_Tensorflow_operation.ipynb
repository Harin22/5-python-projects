{
  "nbformat": 4,
  "nbformat_minor": 0,
  "metadata": {
    "colab": {
      "provenance": [],
      "authorship_tag": "ABX9TyNkA6fzWSJEoLM6zkGMIUZB",
      "include_colab_link": true
    },
    "kernelspec": {
      "name": "python3",
      "display_name": "Python 3"
    },
    "language_info": {
      "name": "python"
    }
  },
  "cells": [
    {
      "cell_type": "markdown",
      "metadata": {
        "id": "view-in-github",
        "colab_type": "text"
      },
      "source": [
        "<a href=\"https://colab.research.google.com/github/Harin22/5-python-projects/blob/master/Basic_Tensorflow_operation.ipynb\" target=\"_parent\"><img src=\"https://colab.research.google.com/assets/colab-badge.svg\" alt=\"Open In Colab\"/></a>"
      ]
    },
    {
      "cell_type": "code",
      "execution_count": null,
      "metadata": {
        "colab": {
          "base_uri": "https://localhost:8080/"
        },
        "id": "9QQe2zGhsQ1y",
        "outputId": "a542bb5e-292d-423f-dd4b-4870cfcd7b9b"
      },
      "outputs": [
        {
          "output_type": "stream",
          "name": "stdout",
          "text": [
            "tf.Tensor(\n",
            "[[1. 2. 3.]\n",
            " [4. 5. 6.]], shape=(2, 3), dtype=float32)\n",
            "(2, 3)\n",
            "<dtype: 'float32'>\n",
            "tf.Tensor(\n",
            "[[ 2.  4.  6.]\n",
            " [ 8. 10. 12.]], shape=(2, 3), dtype=float32)\n",
            "tf.Tensor(\n",
            "[[ 5. 10. 15.]\n",
            " [20. 25. 30.]], shape=(2, 3), dtype=float32)\n",
            "tf.Tensor(\n",
            "[[1. 2. 3.]\n",
            " [4. 5. 6.]\n",
            " [1. 2. 3.]\n",
            " [4. 5. 6.]\n",
            " [1. 2. 3.]\n",
            " [4. 5. 6.]], shape=(6, 3), dtype=float32)\n",
            "tf.Tensor(\n",
            "[[0.09003057 0.24472848 0.66524094]\n",
            " [0.09003057 0.24472848 0.66524094]], shape=(2, 3), dtype=float32)\n",
            "tf.Tensor(21.0, shape=(), dtype=float32)\n",
            "tf.Tensor([1 2 3], shape=(3,), dtype=int32)\n",
            "tf.Tensor(6, shape=(), dtype=int32)\n"
          ]
        }
      ],
      "source": [
        "import tensorflow as tf\n",
        "\n",
        "x = tf.constant([[1., 2., 3.], [4., 5., 6.]])\n",
        "print(x)\n",
        "\n",
        "print(x.shape)\n",
        "\n",
        "print(x.dtype)\n",
        "\n",
        "print(x + x)\n",
        "print(5 * x)\n",
        "print(tf.concat([x, x, x], axis=0))\n",
        "\n",
        "print(tf.nn.softmax(x, axis=-1))\n",
        "\n",
        "print(tf.reduce_sum(x))\n",
        "print(tf.convert_to_tensor([1, 2, 3]))\n",
        "print(tf.reduce_sum([1, 2, 3]))"
      ]
    }
  ]
}