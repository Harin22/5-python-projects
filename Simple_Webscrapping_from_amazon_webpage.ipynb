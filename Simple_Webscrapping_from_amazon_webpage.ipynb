{
  "nbformat": 4,
  "nbformat_minor": 0,
  "metadata": {
    "colab": {
      "provenance": [],
      "authorship_tag": "ABX9TyMymL/Z1oj1+cU31uetJkXH",
      "include_colab_link": true
    },
    "kernelspec": {
      "name": "python3",
      "display_name": "Python 3"
    },
    "language_info": {
      "name": "python"
    }
  },
  "cells": [
    {
      "cell_type": "markdown",
      "metadata": {
        "id": "view-in-github",
        "colab_type": "text"
      },
      "source": [
        "<a href=\"https://colab.research.google.com/github/Harin22/5-python-projects/blob/master/Simple_Webscrapping_from_amazon_webpage.ipynb\" target=\"_parent\"><img src=\"https://colab.research.google.com/assets/colab-badge.svg\" alt=\"Open In Colab\"/></a>"
      ]
    },
    {
      "cell_type": "code",
      "source": [
        "import requests\n",
        "from bs4 import BeautifulSoup\n",
        "\n",
        "#webpage that we scrape\n",
        "url = 'https://www.amazon.in/'\n",
        "\n",
        "response = requests.get(url)\n",
        "\n",
        "if response.status_code == 200:\n",
        "    #using BeautifulSoup\n",
        "    soup = BeautifulSoup(response.text, 'html.parser')\n",
        "\n",
        "    article_titles = soup.find_all('h2')\n",
        "\n",
        "    # Looping through the elements and extract the text\n",
        "    for title in article_titles:\n",
        "        print(title.text)\n",
        "else:\n",
        "    print(f\"Failed to retrieve the webpage (Status Code: {response.status_code})\")\n",
        "\n",
        "\n"
      ],
      "metadata": {
        "colab": {
          "base_uri": "https://localhost:8080/"
        },
        "id": "-ggZMYvuEUaM",
        "outputId": "5b3d66ea-293d-4a5f-a63f-30aa5e84a635"
      },
      "execution_count": 3,
      "outputs": [
        {
          "output_type": "stream",
          "name": "stdout",
          "text": [
            "Bluetooth Calling Smartwatch starts at ₹1,999\n",
            "Great Indian Festival | Coming soon\n",
            "Cricket Fever Offers\n",
            "Up to 60% off | Styles for men\n",
            "Computer Accessories | Under ₹499\n",
            "Up to 75% off | Headphones\n",
            "Revamp your home in style\n",
            "Appliances for your home | Up to 55% off\n",
            "Starting ₹99 | All your home improvement needs\n",
            "Today’s Deals\n",
            "Up to 60% off | Car & bike accessories & more\n",
            "Best Sellers in Computers & Accessories\n",
            "Up to 70% off | Trending new launches\n",
            "Starting ₹99 | Start your fitness journey\n",
            "Under ₹499 | Pocket-friendly fashion\n",
            "Bestsellers in Women's Indian Clothing\n",
            "Curated kitchen products from women-led business\n",
            "Customers’ Most-Loved Fashion for you\n",
            "Up to 40% off | Baby care\n",
            "Hip Hop India | Watch Now Only on miniTV\n",
            "Great Indian Festival | Brands in focus\n",
            "Best Sellers in Sports, Fitness & Outdoors\n",
            "Frequently repurchased in Grocery\n",
            "Birthday store\n",
            "Essentials for Expecting Mothers\n",
            "One stop shop for all your wedding shopping\n",
            "Baby diapers & wipes at great prices\n",
            "Festive wear from small businesses\n"
          ]
        }
      ]
    },
    {
      "cell_type": "code",
      "source": [
        "https://www.amazon.in/s?hidden-keywords=B0C7QS9M38+%7C+B08TV2P1N8+%7C+B09N3ZNHTY+%7C+B07PR1CL3S+%7C+B0BSGQTVP1+%7C+B0BKG5PQ6T+%7C+B0CC8VF47L+%7C+B09YRYCWF8+%7C+B0BW8TXJJ2+%7C+B0BW9NWMPL+%7C+B08JQN8DGZ+%7C+B0BZ4DJ7GZ+%7C+B071Z8M4KX+%7C+B0BKZFKQ3G+%7C+B0BVRDWC9C+%7C+B09LHXTXMX+%7C+B0BYZ26QGB+%7C+B09NYK3CF2+%7C+B0CC5VH2LW+%7C+B09MTRDQB5+%7C+B0BBTYDK6Y+%7C+B0C7CNFKJ3+%7C+B08MSYDMZ7+%7C+B08JMC1988+%7C+B09GFRV7L5+%7C+B09X74RB6D+%7C+B0BTDNZQWJ+%7C+B072PQRS12+%7C+B0856HNMR7+%7C+B07KXR889N+%7C+B01FSYQ2A4+%7C+B08CVTJ7NJ+%7C+B07T2CZCMR+%7C+B0B4NW64R1+%7C+B07NBWT3Z2+%7C+B08H9Z3XQW+%7C+B0BBVBCL3F+%7C+B07SMH67DJ+%7C+B0C7QWGZ6Z+%7C+B01J82IYLW+%7C+B08JM7X6RY+%7C+B0B12Q8K2X+%7C+B0BR5CMNNT+%7C+B0BBTYBLJV+%7C+B01MF8MB65+%7C+B08CVTT65T+%7C+B09JGRDGDG+%7C+B0BTDRVFW1+%7C+B0BZHRB9J1+%7C+B0C592CYFJ&_encoding=UTF8&content-id=amzn1.sym.b936cebd-b81a-4fee-a150-8f1d61f36638&pd_rd_r=a24c6402-1c0b-4456-942e-e5409f641e04&pd_rd_w=L9a9g&pd_rd_wg=P0rYY&pf_rd_p=b936cebd-b81a-4fee-a150-8f1d61f36638&pf_rd_r=JYXWD6VV49AGNB0X6ZCG&ref=pd_gw_unk"
      ],
      "metadata": {
        "id": "Cp09EabxFXAV"
      },
      "execution_count": null,
      "outputs": []
    },
    {
      "cell_type": "code",
      "source": [
        "import requests\n",
        "from bs4 import BeautifulSoup\n",
        "\n",
        "#webpage that we scrape\n",
        "url = 'https://www.amazon.in/s?hidden-keywords=B0C7QS9M38+%7C+B08TV2P1N8+%7C+B09N3ZNHTY+%7C+B07PR1CL3S+%7C+B0BSGQTVP1+%7C+B0BKG5PQ6T+%7C+B0CC8VF47L+%7C+B09YRYCWF8+%7C+B0BW8TXJJ2+%7C+B0BW9NWMPL+%7C+B08JQN8DGZ+%7C+B0BZ4DJ7GZ+%7C+B071Z8M4KX+%7C+B0BKZFKQ3G+%7C+B0BVRDWC9C+%7C+B09LHXTXMX+%7C+B0BYZ26QGB+%7C+B09NYK3CF2+%7C+B0CC5VH2LW+%7C+B09MTRDQB5+%7C+B0BBTYDK6Y+%7C+B0C7CNFKJ3+%7C+B08MSYDMZ7+%7C+B08JMC1988+%7C+B09GFRV7L5+%7C+B09X74RB6D+%7C+B0BTDNZQWJ+%7C+B072PQRS12+%7C+B0856HNMR7+%7C+B07KXR889N+%7C+B01FSYQ2A4+%7C+B08CVTJ7NJ+%7C+B07T2CZCMR+%7C+B0B4NW64R1+%7C+B07NBWT3Z2+%7C+B08H9Z3XQW+%7C+B0BBVBCL3F+%7C+B07SMH67DJ+%7C+B0C7QWGZ6Z+%7C+B01J82IYLW+%7C+B08JM7X6RY+%7C+B0B12Q8K2X+%7C+B0BR5CMNNT+%7C+B0BBTYBLJV+%7C+B01MF8MB65+%7C+B08CVTT65T+%7C+B09JGRDGDG+%7C+B0BTDRVFW1+%7C+B0BZHRB9J1+%7C+B0C592CYFJ&_encoding=UTF8&content-id=amzn1.sym.b936cebd-b81a-4fee-a150-8f1d61f36638&pd_rd_r=a24c6402-1c0b-4456-942e-e5409f641e04&pd_rd_w=L9a9g&pd_rd_wg=P0rYY&pf_rd_p=b936cebd-b81a-4fee-a150-8f1d61f36638&pf_rd_r=JYXWD6VV49AGNB0X6ZCG&ref=pd_gw_unk'\n",
        "\n",
        "response = requests.get(url)\n",
        "\n",
        "if response.status_code == 200:\n",
        "    #using BeautifulSoup\n",
        "    soup = BeautifulSoup(response.text, 'html.parser')\n",
        "\n",
        "    article_titles = soup.find_all('h2')\n",
        "\n",
        "    # Looping through the elements and extract the text\n",
        "    for title in article_titles:\n",
        "        print(title.text)\n",
        "else:\n",
        "    print(f\"Failed to retrieve the webpage (Status Code: {response.status_code})\")\n",
        "\n",
        "\n"
      ],
      "metadata": {
        "colab": {
          "base_uri": "https://localhost:8080/"
        },
        "id": "FZ3ZXxyqFbAo",
        "outputId": "86b9e140-4432-41c5-b24f-5abba5ddc16b"
      },
      "execution_count": 4,
      "outputs": [
        {
          "output_type": "stream",
          "name": "stdout",
          "text": [
            "boAt BassHeads 100 in-Ear Wired Headphones with Mic (Black)  \n",
            "boAt Airdopes 141 Bluetooth Truly Wireless in Ear Headphones with 42H Playtime,Low Latency Mode for Gaming, ENx Tech, IWP, IPX4 Water Resistance, Smooth Touch Controls(Bold Black)  \n",
            "boAt Rockerz 370 On Ear Bluetooth Headphones with Upto 12 Hours Playtime, Cozy Padded Earcups and Bluetooth v5.0, with Mic (Buoyant Black)  \n",
            "boAt Rockerz 551ANC Hybrid Active Noise Cancellation Headphones with Up to 100H Playtime, ASAP™ Charge, Ambient Sound Mode &Dual EQ Modes, ENx™ Technology(Stellar Black)  \n",
            "boAt Rockerz 400 Bluetooth On Ear Headphones With Mic With Upto 8 Hours Playback & Soft Padded Ear Cushions(Grey/Green)  \n"
          ]
        }
      ]
    }
  ]
}