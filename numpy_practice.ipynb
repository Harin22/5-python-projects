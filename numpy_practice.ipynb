{
  "nbformat": 4,
  "nbformat_minor": 0,
  "metadata": {
    "colab": {
      "provenance": [],
      "authorship_tag": "ABX9TyMZkjgAcPq7w6eendrzl0qT",
      "include_colab_link": true
    },
    "kernelspec": {
      "name": "python3",
      "display_name": "Python 3"
    },
    "language_info": {
      "name": "python"
    }
  },
  "cells": [
    {
      "cell_type": "markdown",
      "metadata": {
        "id": "view-in-github",
        "colab_type": "text"
      },
      "source": [
        "<a href=\"https://colab.research.google.com/github/Harin22/5-python-projects/blob/master/numpy_practice.ipynb\" target=\"_parent\"><img src=\"https://colab.research.google.com/assets/colab-badge.svg\" alt=\"Open In Colab\"/></a>"
      ]
    },
    {
      "cell_type": "code",
      "execution_count": null,
      "metadata": {
        "colab": {
          "base_uri": "https://localhost:8080/"
        },
        "id": "OX-TNKfeN2eY",
        "outputId": "8443fae7-ec04-4d1a-bd9f-df949c54d6fa"
      },
      "outputs": [
        {
          "output_type": "stream",
          "name": "stdout",
          "text": [
            "[1 2 3 4 5]\n"
          ]
        }
      ],
      "source": [
        "import numpy as np\n",
        "\n",
        "arr = np.array([1, 2, 3, 4, 5])\n",
        "\n",
        "print(arr)\n"
      ]
    },
    {
      "cell_type": "code",
      "source": [
        "arr1 = np.zeros(5)\n",
        "print(arr1)"
      ],
      "metadata": {
        "colab": {
          "base_uri": "https://localhost:8080/"
        },
        "id": "hszRZ5nPPJAf",
        "outputId": "83688c59-15ea-4c2a-c37f-94325ba6ed04"
      },
      "execution_count": null,
      "outputs": [
        {
          "output_type": "stream",
          "name": "stdout",
          "text": [
            "[0. 0. 0. 0. 0.]\n"
          ]
        }
      ]
    },
    {
      "cell_type": "code",
      "source": [
        "arr1 = np.ones(5)\n",
        "print(arr1)"
      ],
      "metadata": {
        "colab": {
          "base_uri": "https://localhost:8080/"
        },
        "id": "vWWlAGkhPWXK",
        "outputId": "337739ec-e668-4c8c-eab1-ac8fa715656e"
      },
      "execution_count": null,
      "outputs": [
        {
          "output_type": "stream",
          "name": "stdout",
          "text": [
            "[1. 1. 1. 1. 1.]\n"
          ]
        }
      ]
    },
    {
      "cell_type": "code",
      "source": [
        "ar2 = np.empty(5)\n",
        "print(ar2)"
      ],
      "metadata": {
        "colab": {
          "base_uri": "https://localhost:8080/"
        },
        "id": "Lh9Ry4upPap7",
        "outputId": "312570d1-a06a-4e29-d52a-2ebeb92511b6"
      },
      "execution_count": null,
      "outputs": [
        {
          "output_type": "stream",
          "name": "stdout",
          "text": [
            "[0. 0. 0. 0. 0.]\n"
          ]
        }
      ]
    },
    {
      "cell_type": "code",
      "source": [
        "ar3 = np.arange(5)\n",
        "for i in ar3:\n",
        "  print(ar3)"
      ],
      "metadata": {
        "colab": {
          "base_uri": "https://localhost:8080/"
        },
        "id": "NF6ELOoiPd0b",
        "outputId": "0334eda4-f4d9-491b-c3ed-918b82cf2f74"
      },
      "execution_count": null,
      "outputs": [
        {
          "output_type": "stream",
          "name": "stdout",
          "text": [
            "[0 1 2 3 4]\n",
            "[0 1 2 3 4]\n",
            "[0 1 2 3 4]\n",
            "[0 1 2 3 4]\n",
            "[0 1 2 3 4]\n"
          ]
        }
      ]
    },
    {
      "cell_type": "code",
      "source": [
        "ar4 = np.linspace(0, 5, num=5)\n",
        "print(ar4)"
      ],
      "metadata": {
        "colab": {
          "base_uri": "https://localhost:8080/"
        },
        "id": "qmxSt1ZLPwS_",
        "outputId": "b398ee21-d78b-4d63-b998-9591262d1d93"
      },
      "execution_count": null,
      "outputs": [
        {
          "output_type": "stream",
          "name": "stdout",
          "text": [
            "[0.   1.25 2.5  3.75 5.  ]\n"
          ]
        }
      ]
    },
    {
      "cell_type": "markdown",
      "source": [
        "# 2nd Augest"
      ],
      "metadata": {
        "id": "B7xm419mrk2t"
      }
    },
    {
      "cell_type": "code",
      "source": [
        "kk = np.array([[1, 3], [5, 6]])\n",
        "print(kk)"
      ],
      "metadata": {
        "colab": {
          "base_uri": "https://localhost:8080/"
        },
        "id": "r5NOyS7KW-mU",
        "outputId": "520a9d18-88a8-485f-de0d-cc1166a1b91f"
      },
      "execution_count": null,
      "outputs": [
        {
          "output_type": "stream",
          "name": "stdout",
          "text": [
            "[[1 3]\n",
            " [5 6]]\n"
          ]
        }
      ]
    },
    {
      "cell_type": "code",
      "source": [
        "import numpy as np\n",
        "\n",
        "k = np.random.seed(8)\n",
        "print(k)\n"
      ],
      "metadata": {
        "colab": {
          "base_uri": "https://localhost:8080/"
        },
        "id": "JZJpgumktx_6",
        "outputId": "595a6715-f413-4408-f072-67ac15346361"
      },
      "execution_count": null,
      "outputs": [
        {
          "output_type": "stream",
          "name": "stdout",
          "text": [
            "None\n"
          ]
        }
      ]
    },
    {
      "cell_type": "code",
      "source": [
        "i = np.random.choice([3, 5, 7, 9])\n",
        "print(i)\n",
        "\n",
        "j = np.random.choice([1,23,4,5,6,7], size=(3, 5))\n",
        "print(j)"
      ],
      "metadata": {
        "colab": {
          "base_uri": "https://localhost:8080/"
        },
        "id": "PksWehZyoV9S",
        "outputId": "8db0f35c-3a97-4803-8310-e9e3113f9f25"
      },
      "execution_count": null,
      "outputs": [
        {
          "output_type": "stream",
          "name": "stdout",
          "text": [
            "3\n",
            "[[23 23  7  4  1]\n",
            " [ 5  1  1  7  7]\n",
            " [ 6 23  5  4  5]]\n"
          ]
        }
      ]
    },
    {
      "cell_type": "code",
      "source": [
        "h = np.arange(18)\n",
        "print(h)\n",
        "\n",
        "i = np.reshape(h,(9,2)) # the reshape array should be (both array multiple )\n",
        "print(i)\n"
      ],
      "metadata": {
        "colab": {
          "base_uri": "https://localhost:8080/"
        },
        "id": "Ps-DZBDEtY84",
        "outputId": "8a177f39-1173-43b7-d592-e6d4530bc590"
      },
      "execution_count": null,
      "outputs": [
        {
          "output_type": "stream",
          "name": "stdout",
          "text": [
            "[ 0  1  2  3  4  5  6  7  8  9 10 11 12 13 14 15 16 17]\n",
            "[[ 0  1]\n",
            " [ 2  3]\n",
            " [ 4  5]\n",
            " [ 6  7]\n",
            " [ 8  9]\n",
            " [10 11]\n",
            " [12 13]\n",
            " [14 15]\n",
            " [16 17]]\n"
          ]
        }
      ]
    },
    {
      "cell_type": "code",
      "source": [
        "k = np.arange(10)\n",
        "print(k)\n",
        "\n",
        "i = np.reshape(k,(2,5))\n",
        "print(i)\n",
        "\n",
        "j = np.ravel(i)  #np.ravel function in NumPy is used to flatten an array into a 1D array. It returns a contiguous flattened array\n",
        "print(j)"
      ],
      "metadata": {
        "colab": {
          "base_uri": "https://localhost:8080/"
        },
        "id": "FPKoOBhdu92g",
        "outputId": "626daa67-ffa9-4249-b269-499ada6c1b10"
      },
      "execution_count": null,
      "outputs": [
        {
          "output_type": "stream",
          "name": "stdout",
          "text": [
            "[0 1 2 3 4 5 6 7 8 9]\n",
            "[[0 1 2 3 4]\n",
            " [5 6 7 8 9]]\n",
            "[0 1 2 3 4 5 6 7 8 9]\n"
          ]
        }
      ]
    },
    {
      "cell_type": "code",
      "source": [
        "i = np.array([[1,2,3],[4,5,6]])\n",
        "print(i)\n",
        "\n",
        "j = np.transpose(i)\n",
        "print(j)"
      ],
      "metadata": {
        "colab": {
          "base_uri": "https://localhost:8080/"
        },
        "id": "ln2AgVCIxlyN",
        "outputId": "c8b67e3b-bf42-465a-af1b-be8cb387a3c6"
      },
      "execution_count": null,
      "outputs": [
        {
          "output_type": "stream",
          "name": "stdout",
          "text": [
            "[[1 2 3]\n",
            " [4 5 6]]\n",
            "[[1 4]\n",
            " [2 5]\n",
            " [3 6]]\n"
          ]
        }
      ]
    },
    {
      "cell_type": "code",
      "source": [
        "i = np.array([[1,2,3],[4,5,6]])\n",
        "j = np.array([[7,8,9],[10,11,12]])\n",
        "\n",
        "k = np.concatenate((i,j),axis=0)\n",
        "print(k)\n",
        "\n",
        "#Axis 0: Refers to rows in a 2D array. Concatenating along axis=0 stacks arrays on top of each other, increasing the number of rows.\n",
        "#Axis 1: Refers to columns in a 2D array. Concatenating along axis=1 places arrays side-by-side, increasing the number of columns."
      ],
      "metadata": {
        "colab": {
          "base_uri": "https://localhost:8080/"
        },
        "id": "QByvm_NNz8do",
        "outputId": "ec744320-db25-44c9-e94e-935a24e63fcd"
      },
      "execution_count": null,
      "outputs": [
        {
          "output_type": "stream",
          "name": "stdout",
          "text": [
            "[[ 1  2  3]\n",
            " [ 4  5  6]\n",
            " [ 7  8  9]\n",
            " [10 11 12]]\n"
          ]
        }
      ]
    },
    {
      "cell_type": "markdown",
      "source": [
        "# 7 augest"
      ],
      "metadata": {
        "id": "eVYzddb4l0hu"
      }
    },
    {
      "cell_type": "code",
      "source": [
        "import numpy as np\n",
        "\n",
        "a = np.array([1, 2, 3])\n",
        "b = np.array([4, 5, 6])\n",
        "c = np.array([7,8,9])\n",
        "\n",
        "stack = np.stack((a, b,c), axis=0)\n",
        "print(stack)\n",
        "\n",
        "stack = np.stack((a, b), axis=1)\n",
        "print(stack)\n",
        "\n"
      ],
      "metadata": {
        "colab": {
          "base_uri": "https://localhost:8080/"
        },
        "id": "YTElP8NNlt7E",
        "outputId": "39fb4bf7-3433-4fdd-945e-c291570df025"
      },
      "execution_count": null,
      "outputs": [
        {
          "output_type": "stream",
          "name": "stdout",
          "text": [
            "[[1 2 3]\n",
            " [4 5 6]\n",
            " [7 8 9]]\n",
            "[[1 4]\n",
            " [2 5]\n",
            " [3 6]]\n"
          ]
        }
      ]
    },
    {
      "cell_type": "code",
      "source": [
        "a = np.array([[1, 2, 3], [7,34,53]])\n",
        "b = np.array([[4, 5, 6], [7,30,53]])\n",
        "c = np.array([7,8,9,])\n",
        "\n",
        "hstack = np.hstack((a, b,)) # bring all in straight line\n",
        "print(hstack)\n",
        "\n",
        "vstack = np.vstack((a, b,c))\n",
        "print(vstack)"
      ],
      "metadata": {
        "colab": {
          "base_uri": "https://localhost:8080/"
        },
        "id": "8xJIULv_q_o0",
        "outputId": "535be93a-45d6-495a-da2b-f2856a930153"
      },
      "execution_count": null,
      "outputs": [
        {
          "output_type": "stream",
          "name": "stdout",
          "text": [
            "[[ 1  2  3  4  5  6]\n",
            " [ 7 34 53  7 30 53]]\n",
            "[[ 1  2  3]\n",
            " [ 7 34 53]\n",
            " [ 4  5  6]\n",
            " [ 7 30 53]\n",
            " [ 7  8  9]]\n"
          ]
        }
      ]
    },
    {
      "cell_type": "code",
      "source": [
        "a = np.array([[1, 2], [3, 4]])\n",
        "b = np.array([[5, 6], [7, 8]])\n",
        "\n",
        "dstack = np.dstack((a,b))\n",
        "print(\"dstack is \", dstack)  #np.dstack is used to combine multiple 2D arrays (channels) into a single 3D array. This is crucial in image processing where each image has multiple channels (like RGB)."
      ],
      "metadata": {
        "colab": {
          "base_uri": "https://localhost:8080/"
        },
        "id": "ExZ2hiYxuOO3",
        "outputId": "140bf31a-240a-42c0-fa3c-64edc74e618b"
      },
      "execution_count": null,
      "outputs": [
        {
          "output_type": "stream",
          "name": "stdout",
          "text": [
            "dstack is  [[[1 5]\n",
            "  [2 6]]\n",
            "\n",
            " [[3 7]\n",
            "  [4 8]]]\n"
          ]
        }
      ]
    },
    {
      "cell_type": "markdown",
      "source": [
        "# 11 sept"
      ],
      "metadata": {
        "id": "lmB8d_qybT2M"
      }
    },
    {
      "cell_type": "code",
      "source": [
        "import numpy as np\n",
        "\n",
        "arr = np.array([1, 2, 3, 4, 5, 6,8,9])\n",
        "print(arr)\n",
        "\n",
        "splite = np.split(arr, 2)\n",
        "print(splite)\n",
        "\n",
        "re = np.reshape(arr,(2,4))\n",
        "print(\"resha;p\" , re)\n",
        "\n",
        "for i in splite:\n",
        "  print(i)"
      ],
      "metadata": {
        "colab": {
          "base_uri": "https://localhost:8080/"
        },
        "id": "cdroYdrjhW8p",
        "outputId": "db62439d-9cf0-4ffd-f808-0149d01417eb"
      },
      "execution_count": 9,
      "outputs": [
        {
          "output_type": "stream",
          "name": "stdout",
          "text": [
            "[1 2 3 4 5 6 8 9]\n",
            "[array([1, 2, 3, 4]), array([5, 6, 8, 9])]\n",
            "resha;p [[1 2 3 4]\n",
            " [5 6 8 9]]\n",
            "[1 2 3 4]\n",
            "[5 6 8 9]\n"
          ]
        }
      ]
    },
    {
      "cell_type": "code",
      "source": [
        "array = np.arange(12).reshape(3, 4)\n",
        "\n",
        "sub_arrays = np.array_split(array, 2)\n",
        "print(sub_arrays)\n",
        "\n",
        "for i in sub_arrays:\n",
        "    print(i)"
      ],
      "metadata": {
        "colab": {
          "base_uri": "https://localhost:8080/"
        },
        "id": "lE13z4CDih45",
        "outputId": "8dbdf62a-d0ce-41c2-f182-be1ce28d0866"
      },
      "execution_count": 15,
      "outputs": [
        {
          "output_type": "stream",
          "name": "stdout",
          "text": [
            "[array([[0, 1, 2, 3],\n",
            "       [4, 5, 6, 7]]), array([[ 8,  9, 10, 11]])]\n",
            "[[0 1 2 3]\n",
            " [4 5 6 7]]\n",
            "[[ 8  9 10 11]]\n"
          ]
        }
      ]
    },
    {
      "cell_type": "code",
      "source": [
        "i = np.arange(24).reshape(6, 2, 2)\n",
        "sub_arrays = np.dsplit(i, 2)\n",
        "print(sub_arrays)\n"
      ],
      "metadata": {
        "colab": {
          "base_uri": "https://localhost:8080/"
        },
        "id": "Rt65GDA8z2Bw",
        "outputId": "130b771b-2c28-480c-b1cf-edfab3d1a8c5"
      },
      "execution_count": 20,
      "outputs": [
        {
          "output_type": "stream",
          "name": "stdout",
          "text": [
            "[array([[[ 0],\n",
            "        [ 2]],\n",
            "\n",
            "       [[ 4],\n",
            "        [ 6]],\n",
            "\n",
            "       [[ 8],\n",
            "        [10]],\n",
            "\n",
            "       [[12],\n",
            "        [14]],\n",
            "\n",
            "       [[16],\n",
            "        [18]],\n",
            "\n",
            "       [[20],\n",
            "        [22]]]), array([[[ 1],\n",
            "        [ 3]],\n",
            "\n",
            "       [[ 5],\n",
            "        [ 7]],\n",
            "\n",
            "       [[ 9],\n",
            "        [11]],\n",
            "\n",
            "       [[13],\n",
            "        [15]],\n",
            "\n",
            "       [[17],\n",
            "        [19]],\n",
            "\n",
            "       [[21],\n",
            "        [23]]])]\n"
          ]
        }
      ]
    },
    {
      "cell_type": "code",
      "source": [
        "array = np.array([0, 2, 0, 4, 5])\n",
        "\n",
        "nonzero_indices = np.nonzero(array)\n",
        "print(nonzero_indices)\n",
        "\n",
        "for i in nonzero_indices:\n",
        "  print(i)"
      ],
      "metadata": {
        "colab": {
          "base_uri": "https://localhost:8080/"
        },
        "id": "KCmFbdpC95OF",
        "outputId": "cef35c83-5e63-4bea-ce7e-e6f195794067"
      },
      "execution_count": 22,
      "outputs": [
        {
          "output_type": "stream",
          "name": "stdout",
          "text": [
            "(array([1, 3, 4]),)\n",
            "[1 3 4]\n"
          ]
        }
      ]
    },
    {
      "cell_type": "code",
      "source": [
        "array = np.array([10, 15, 20, 25, 30])\n",
        "\n",
        "indices = np.where(array > 20)\n",
        "print(indices)\n",
        "\n",
        "for i in indices:\n",
        "  print(i)\n",
        "\n",
        "selected_elements = np.where(array > 20, array, -1)\n",
        "print(selected_elements)\n"
      ],
      "metadata": {
        "colab": {
          "base_uri": "https://localhost:8080/"
        },
        "id": "CoQx8W91pBZe",
        "outputId": "cca3a2fc-96e6-4a89-bfb8-2b2436e97792"
      },
      "execution_count": 24,
      "outputs": [
        {
          "output_type": "stream",
          "name": "stdout",
          "text": [
            "(array([3, 4]),)\n",
            "[3 4]\n"
          ]
        }
      ]
    }
  ]
}